{
 "cells": [
  {
   "cell_type": "markdown",
   "metadata": {},
   "source": [
    "## MNIST Dataset clustering"
   ]
  },
  {
   "cell_type": "code",
   "execution_count": null,
   "metadata": {},
   "outputs": [],
   "source": [
    "import numpy as np\n",
    "from scipy.io import loadmat\n",
    "from sklearn.cluster import KMeans\n",
    "from collections import defaultdict"
   ]
  },
  {
   "cell_type": "code",
   "execution_count": 8,
   "metadata": {},
   "outputs": [],
   "source": [
    "def calculate_purity(cluster_labels, true_labels):\n",
    "    cluster_dict = defaultdict(list)\n",
    "    for cluster, label in zip(cluster_labels, true_labels):\n",
    "        cluster_dict[cluster].append(label)\n",
    "\n",
    "    purity_scores = {}\n",
    "    for cluster, labels in cluster_dict.items():\n",
    "        most_common = max(set(labels), key=labels.count)\n",
    "        correct_assignments = labels.count(most_common)\n",
    "        purity_scores[cluster] = correct_assignments / len(labels)\n",
    "\n",
    "    return purity_scores\n",
    "\n",
    "def load_mnist_data(file_path):\n",
    "    data = loadmat(file_path)\n",
    "    X_train = data[\"xtrain\"]\n",
    "    y_train = data[\"ytrain\"].flatten()\n",
    "    X_test = data[\"xtest\"]\n",
    "    y_test = data[\"ytest\"].flatten()\n",
    "\n",
    "    X = np.vstack((X_train, X_test))\n",
    "    y = np.hstack((y_train, y_test))\n",
    "\n",
    "    return X, y\n",
    "\n",
    "def clustering_with_euclidean(X, y, k=10):\n",
    "    X = X / 255.0\n",
    "\n",
    "    kmeans = KMeans(n_clusters=k, random_state=42).fit(X)\n",
    "    cluster_labels = kmeans.labels_\n",
    "    purity_scores = calculate_purity(cluster_labels, y)\n",
    "\n",
    "    print(\"Purity scores for Euclidean:\")\n",
    "    for cluster, score in sorted(purity_scores.items()):\n",
    "        print(f\"Cluster {cluster}: {score:.4f}\")\n",
    "\n",
    "    avg_purity = np.mean(list(purity_scores.values()))\n",
    "    print(f\"Average Purity for Euclidean: {avg_purity:.4f}\")\n",
    "    return purity_scores\n",
    "\n",
    "def clustering_with_hamming(X, y, k=10):\n",
    "    X_binary = (X > 128).astype(int)\n",
    "\n",
    "    class HammingKMeans:\n",
    "        def __init__(self, n_clusters, max_iter=300, random_state=42):\n",
    "            self.n_clusters = n_clusters\n",
    "            self.max_iter = max_iter\n",
    "            self.random_state = random_state\n",
    "\n",
    "        def fit(self, X):\n",
    "            np.random.seed(self.random_state)\n",
    "            n_samples, n_features = X.shape\n",
    "            self.centroids = X[\n",
    "                np.random.choice(n_samples, self.n_clusters, replace=False)\n",
    "            ]\n",
    "\n",
    "            for _ in range(self.max_iter):\n",
    "                distances = np.array(\n",
    "                    [\n",
    "                        np.sum(np.abs(X - centroid), axis=1)\n",
    "                        for centroid in self.centroids\n",
    "                    ]\n",
    "                )\n",
    "                labels = np.argmin(distances, axis=0)\n",
    "                new_centroids = np.zeros_like(self.centroids)\n",
    "                for cluster in range(self.n_clusters):\n",
    "                    cluster_points = X[labels == cluster]\n",
    "                    if len(cluster_points) > 0:\n",
    "                        new_centroids[cluster] = (\n",
    "                            np.mean(cluster_points, axis=0) > 0.5\n",
    "                        ).astype(int)\n",
    "                if np.all(self.centroids == new_centroids):\n",
    "                    break\n",
    "                self.centroids = new_centroids\n",
    "\n",
    "            self.labels_ = labels\n",
    "\n",
    "    hamming_kmeans = HammingKMeans(n_clusters=k)\n",
    "    hamming_kmeans.fit(X_binary)\n",
    "    cluster_labels = hamming_kmeans.labels_\n",
    "\n",
    "    purity_scores = calculate_purity(cluster_labels, y)\n",
    "\n",
    "    print(\"Purity scores for Hamming:\")\n",
    "    for cluster, score in sorted(purity_scores.items()):\n",
    "        print(f\"Cluster {cluster}: {score:.4f}\")\n",
    "\n",
    "    avg_purity = np.mean(list(purity_scores.values()))\n",
    "    print(f\"Average Purity for Hamming: {avg_purity:.4f}\")\n",
    "    return purity_scores"
   ]
  },
  {
   "cell_type": "code",
   "execution_count": 9,
   "metadata": {},
   "outputs": [],
   "source": [
    "X, y = load_mnist_data('q5_data/mnist_10digits.mat')"
   ]
  },
  {
   "cell_type": "markdown",
   "metadata": {},
   "source": [
    "### Q1"
   ]
  },
  {
   "cell_type": "code",
   "execution_count": 10,
   "metadata": {},
   "outputs": [
    {
     "name": "stderr",
     "output_type": "stream",
     "text": [
      "/opt/homebrew/lib/python3.11/site-packages/sklearn/cluster/_kmeans.py:1416: FutureWarning: The default value of `n_init` will change from 10 to 'auto' in 1.4. Set the value of `n_init` explicitly to suppress the warning\n",
      "  super()._check_params_vs_input(X, default_n_init=10)\n"
     ]
    },
    {
     "name": "stdout",
     "output_type": "stream",
     "text": [
      "Purity scores for Euclidean:\n",
      "Cluster 0: 0.5281\n",
      "Cluster 1: 0.6448\n",
      "Cluster 2: 0.4410\n",
      "Cluster 3: 0.8688\n",
      "Cluster 4: 0.3193\n",
      "Cluster 5: 0.6077\n",
      "Cluster 6: 0.9153\n",
      "Cluster 7: 0.6625\n",
      "Cluster 8: 0.3569\n",
      "Cluster 9: 0.9389\n",
      "Average Purity for Euclidean: 0.6283\n"
     ]
    }
   ],
   "source": [
    "euclidean_purity_scores = clustering_with_euclidean(X, y)"
   ]
  },
  {
   "cell_type": "markdown",
   "metadata": {},
   "source": [
    "### Q2"
   ]
  },
  {
   "cell_type": "code",
   "execution_count": 11,
   "metadata": {},
   "outputs": [
    {
     "name": "stdout",
     "output_type": "stream",
     "text": [
      "Purity scores for Hamming:\n",
      "Cluster 0: 0.4261\n",
      "Cluster 1: 0.4715\n",
      "Cluster 2: 0.4868\n",
      "Cluster 3: 0.5854\n",
      "Cluster 4: 0.3559\n",
      "Cluster 5: 0.9175\n",
      "Cluster 6: 0.7835\n",
      "Cluster 7: 0.4411\n",
      "Cluster 8: 0.4418\n",
      "Cluster 9: 0.3950\n",
      "Average Purity for Hamming: 0.5305\n"
     ]
    }
   ],
   "source": [
    "hamming_purity_scores = clustering_with_hamming(X, y)"
   ]
  }
 ],
 "metadata": {
  "kernelspec": {
   "display_name": "Python 3",
   "language": "python",
   "name": "python3"
  },
  "language_info": {
   "codemirror_mode": {
    "name": "ipython",
    "version": 3
   },
   "file_extension": ".py",
   "mimetype": "text/x-python",
   "name": "python",
   "nbconvert_exporter": "python",
   "pygments_lexer": "ipython3",
   "version": "3.11.6"
  }
 },
 "nbformat": 4,
 "nbformat_minor": 2
}
