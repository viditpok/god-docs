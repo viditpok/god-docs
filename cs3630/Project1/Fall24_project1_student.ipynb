{
  "cells": [
    {
      "cell_type": "markdown",
      "id": "a5a49495",
      "metadata": {
        "id": "a5a49495"
      },
      "source": [
        "# CS3630 Project 1: Trash Sorting Robot (Fall 2024)\n",
        "## Brief\n",
        "- Due: Monday, September 16 at 11:59pm on Gradescope\n",
        "- Hand-in: through Gradescope\n",
        "\n",
        "## Getting started\n",
        "In order to use a file as your own, once we give you the notebook link:\n",
        "1. Download the file to your computer\n",
        "2. Upload the notebook to Google Colab (File > Upload Notebook)\n",
        "\n",
        "## Submission Instructions\n",
        "In order to submit a file, once you complete the project:\n",
        "1. **Comment out !pip install statements (highlighted where necessary)**\n",
        "2. Click the “File” button on the toolbar at the top\n",
        "3. Click “Download,”\n",
        "4. And then click “Download .py”\n",
        "5. You will now have the .py file on your local machine.\n",
        "6. Make sure it is named `project1.py`\n",
        "7. Submit the `project1.py` file to gradescope (Make sure the file name matches exactly, else you will get an error on Gradescope)\n",
        "\n",
        "\n",
        "## Introduction\n",
        "\n",
        "In this project, we will be building a (simulated) trash sorting robot as illustrated in the [textbook](http://www.roboticsbook.org/intro.html) for this course. In this scenario, the robot tries to sort trash of some pre-determined categories into corresponding bins. Please refer to [Chapter 2](http://www.roboticsbook.org/S20_sorter_intro.html) of the book for a more detailed description of the scenario. **This project is basically based on Chapter 2 of the textbook. Please use the same values in the textbook for each TODO.**\n",
        "\n",
        "**However, instead of using gtsam library, we will implement DiscreteDistribution, DiscreteConditional, and GaussianConditional classes ourselves. Please read the comments to understand each function.**"
      ]
    },
    {
      "cell_type": "markdown",
      "id": "9ea886ad",
      "metadata": {
        "id": "9ea886ad"
      },
      "source": [
        "First, import some useful libraries."
      ]
    },
    {
      "cell_type": "code",
      "execution_count": null,
      "id": "eea7b6e2",
      "metadata": {
        "id": "eea7b6e2"
      },
      "outputs": [],
      "source": [
        "#export\n",
        "import numpy as np\n",
        "import math\n",
        "from enum import Enum"
      ]
    },
    {
      "cell_type": "code",
      "execution_count": null,
      "id": "728e9d26",
      "metadata": {
        "id": "728e9d26"
      },
      "outputs": [],
      "source": [
        "%load_ext autoreload\n",
        "%autoreload 2"
      ]
    },
    {
      "cell_type": "code",
      "execution_count": null,
      "id": "19d20b7c",
      "metadata": {
        "id": "19d20b7c"
      },
      "outputs": [],
      "source": [
        "# Download the project1_test file to check your code locally on colab\n",
        "\n",
        "### Comment out following line before submitting to Gradescope!!!\n",
        "! pip install --upgrade --no-cache-dir gdown\n",
        "\n",
        "get_ipython().system(' gdown --id 1lQUdlp5Olsz4G3z3svjrc9AEYsktVdZ9') #Do NOT comment out"
      ]
    },
    {
      "cell_type": "code",
      "execution_count": null,
      "id": "35366c7c",
      "metadata": {
        "id": "35366c7c"
      },
      "outputs": [],
      "source": [
        "from project1_test import TestProject1\n",
        "from project1_test import verify"
      ]
    },
    {
      "cell_type": "code",
      "execution_count": null,
      "id": "18b53f84",
      "metadata": {
        "id": "18b53f84"
      },
      "outputs": [],
      "source": [
        "np.random.seed(3630)\n",
        "unit_test = TestProject1()"
      ]
    },
    {
      "cell_type": "markdown",
      "id": "_uuXaWWzEgds",
      "metadata": {
        "id": "_uuXaWWzEgds"
      },
      "source": [
        "**Useful Global Variables:**"
      ]
    },
    {
      "cell_type": "code",
      "execution_count": null,
      "id": "xgxCp5mFsh0c",
      "metadata": {
        "id": "xgxCp5mFsh0c"
      },
      "outputs": [],
      "source": [
        "#export\n",
        "class Trash(Enum):\n",
        "    CARDBOARD = 0\n",
        "    PAPER = 1\n",
        "    CAN = 2\n",
        "    SCRAP_METAL = 3\n",
        "    BOTTLE = 4\n",
        "\n",
        "# All possible actions/bins (nop means no action)\n",
        "ACTIONS = ['glass_bin', 'metal_bin', 'paper_bin', 'nop']\n",
        "# Categories of trash\n",
        "Category = ['cardboard', 'paper', 'can', 'scrap_metal', 'bottle']\n",
        "# Two conductivity states\n",
        "Conductivity = [\"false\", \"true\"]\n",
        "# Detection states\n",
        "Detection = ['bottle', 'cardboard', 'paper']\n",
        "# Appromixations of each category given 1000 pieces of trash\n",
        "Appromixation = [200, 300, 250, 200, 50]"
      ]
    },
    {
      "cell_type": "markdown",
      "id": "ea46e73c",
      "metadata": {
        "id": "ea46e73c"
      },
      "source": [
        "**IMPORTANT NOTE: Please use the variables provided for the results of each of the TODOs.**\n",
        "## Modeling the World State ([Book Section 2.1](http://www.roboticsbook.org/S21_sorter_state.html))\n",
        "- Functions to complete: **TODO 1 - TODO 4**\n",
        "- Objective: Representing the prior probabilities of the trash categories and simulate it by sampling. Please use the prior probabilities provided in the textbook"
      ]
    },
    {
      "cell_type": "markdown",
      "id": "GTH5uJRcFBig",
      "metadata": {
        "id": "GTH5uJRcFBig"
      },
      "source": [
        "**TODO 1:**\n",
        "\n",
        "Complete DiscreteDistribution"
      ]
    },
    {
      "cell_type": "code",
      "execution_count": null,
      "id": "IT6QHnN1FfSk",
      "metadata": {
        "id": "IT6QHnN1FfSk"
      },
      "outputs": [],
      "source": [
        "#export\n",
        "# Probability distribution of a discrete variable.\n",
        "class DiscreteDistribution:\n",
        "  def __init__(self, prior_names, prior):\n",
        "    '''\n",
        "    Constructor\n",
        "        Parameters:\n",
        "            prior_names (list[str]): list of prior category names\n",
        "            prior (list[float]): prior probablity/samples for each category\n",
        "    '''\n",
        "    self._names = prior_names.copy()\n",
        "    self._prior = np.array(prior, dtype=float)\n",
        "    self._prior /= self._prior.sum()\n",
        "\n",
        "  def get_name_index(self, name) -> int:\n",
        "    '''\n",
        "    Helper function to get index of prior name\n",
        "    '''\n",
        "    return self._names.index(name)\n",
        "\n",
        "  def pmf(self) -> list:\n",
        "    return self._prior\n",
        "\n",
        "  # TODO 1:\n",
        "  # sample item\n",
        "  def sample(self) -> int:\n",
        "    '''\n",
        "    Return a sample with the prior probabilities\n",
        "\n",
        "        Parameters:\n",
        "            None\n",
        "\n",
        "        Returns:\n",
        "            sampled_index (int): an int indicating the sampled item name,\n",
        "                you may use the helper function to get index of a name\n",
        "    '''\n",
        "    sampled_index = None\n",
        "    ###############################################################################\n",
        "    #                             START OF YOUR CODE                              #\n",
        "    ###############################################################################\n",
        "\n",
        "\n",
        "\n",
        "    ###############################################################################\n",
        "    #                              END OF YOUR CODE                               #\n",
        "    ###############################################################################\n",
        "    return sampled_index"
      ]
    },
    {
      "cell_type": "code",
      "execution_count": null,
      "id": "JQYFEPnUaPW1",
      "metadata": {
        "id": "JQYFEPnUaPW1"
      },
      "outputs": [],
      "source": [
        "# Sanity check to test your Discrete Distribution\n",
        "print(\"Testing your Discrete Distribution implementation: \")\n",
        "def local_test_discrete_distribution():\n",
        "    categories = ['A', 'B', 'C']\n",
        "    prior_probabilities = [0.3, 0.4, 0.3]\n",
        "\n",
        "    distribution = DiscreteDistribution(prior_names=categories, prior=prior_probabilities)\n",
        "\n",
        "    assert np.isclose(np.sum(distribution.pmf()), 1.0), \"Probabilities do not sum to 1\"\n",
        "\n",
        "    sampled_value = distribution.sample()\n",
        "    assert sampled_value in range(len(categories)), f\"Sampled value {sampled_value} is out of range\"\n",
        "\n",
        "    category_to_check = 'B'\n",
        "    index = distribution.get_name_index(category_to_check)\n",
        "    assert index == categories.index(category_to_check), f\"Index for {category_to_check} is incorrect\"\n",
        "\n",
        "    print(\"Sanity check passed successfully.\")\n",
        "\n",
        "local_test_discrete_distribution()"
      ]
    },
    {
      "cell_type": "markdown",
      "id": "1f8eb04d",
      "metadata": {
        "id": "1f8eb04d"
      },
      "source": [
        "**TODO 2 & TODO 3**:"
      ]
    },
    {
      "cell_type": "code",
      "execution_count": null,
      "id": "9c3a3898",
      "metadata": {
        "id": "9c3a3898"
      },
      "outputs": [],
      "source": [
        "#export\n",
        "# TODO 2:\n",
        "# Prior probabilities\n",
        "def get_category_prior():\n",
        "    '''\n",
        "    Returns the prior probabilities of the trash categories.\n",
        "\n",
        "        Parameters:\n",
        "            None\n",
        "\n",
        "        Returns:\n",
        "            category_prior (DiscreteDistribution): a DiscreteDistribution\n",
        "                that summarizes the prior probabilities of all trash categories\n",
        "    '''\n",
        "    category_prior = None\n",
        "    ###############################################################################\n",
        "    #                             START OF YOUR CODE                              #\n",
        "    ###############################################################################\n",
        "\n",
        "\n",
        "\n",
        "    ###############################################################################\n",
        "    #                              END OF YOUR CODE                               #\n",
        "    ###############################################################################\n",
        "    return category_prior\n",
        "\n",
        "\n",
        "# TODO 3:\n",
        "# Prior probabilities PMF\n",
        "def get_category_prior_pmf():\n",
        "    '''\n",
        "    Returns the probability mass function (PMF) of the prior probabilities\n",
        "    of the trash categories.\n",
        "\n",
        "        Parameters:\n",
        "            None\n",
        "\n",
        "        Returns:\n",
        "            category_prior_pmf (list[float]): a list of the PMF\n",
        "    '''\n",
        "    category_prior_pmf = None\n",
        "    ###############################################################################\n",
        "    #                             START OF YOUR CODE                              #\n",
        "    ###############################################################################\n",
        "\n",
        "\n",
        "\n",
        "    ###############################################################################\n",
        "    #                              END OF YOUR CODE                               #\n",
        "    ###############################################################################\n",
        "    return list(category_prior_pmf)"
      ]
    },
    {
      "cell_type": "code",
      "execution_count": null,
      "id": "426c85a3",
      "metadata": {
        "id": "426c85a3"
      },
      "outputs": [],
      "source": [
        "print(\"Testing your prior probabilities of the trash categories: \")\n",
        "print(verify(unit_test.test_get_category_prior_pmf, get_category_prior_pmf))"
      ]
    },
    {
      "cell_type": "markdown",
      "id": "ef32d527",
      "metadata": {
        "id": "ef32d527"
      },
      "source": [
        "**TODO 4**:"
      ]
    },
    {
      "cell_type": "code",
      "execution_count": null,
      "id": "3a0a105d",
      "metadata": {
        "id": "3a0a105d"
      },
      "outputs": [],
      "source": [
        "#export\n",
        "# TODO 4:\n",
        "def sample_category():\n",
        "    '''\n",
        "    Returns a sample of trash category by sampling with the prior probabilities\n",
        "    of the trash categories\n",
        "\n",
        "        Parameters:\n",
        "            None\n",
        "\n",
        "        Returns:\n",
        "            sample (int): an int indicating the sampled trash category\n",
        "    '''\n",
        "    sample = None\n",
        "    ###############################################################################\n",
        "    #                             START OF YOUR CODE                              #\n",
        "    ###############################################################################\n",
        "\n",
        "\n",
        "\n",
        "    ###############################################################################\n",
        "    #                              END OF YOUR CODE                               #\n",
        "    ###############################################################################\n",
        "    return sample"
      ]
    },
    {
      "cell_type": "code",
      "execution_count": null,
      "id": "e37483d4",
      "metadata": {
        "id": "e37483d4"
      },
      "outputs": [],
      "source": [
        "print(\"Testing your sample of trash category: \", verify(unit_test.test_sample_category, sample_category))"
      ]
    },
    {
      "cell_type": "markdown",
      "id": "ed551cf3",
      "metadata": {
        "id": "ed551cf3"
      },
      "source": [
        "## Sensors for Sorting Trash ([Book Section 2.3](http://www.roboticsbook.org/S23_sorter_sensing.html))\n",
        "- Functions to complete: **TODO 5-7** , **TODO 8-10**\n",
        "- Objective: Representing conditional probabilities of sensors and simulate them by sampling, please use the data provided in the textbook"
      ]
    },
    {
      "cell_type": "markdown",
      "id": "qfQeHThZFOpu",
      "metadata": {
        "id": "qfQeHThZFOpu"
      },
      "source": [
        "**TODO 5 & TODO 6:**\n",
        "\n",
        "Complete DiscreteConditional"
      ]
    },
    {
      "cell_type": "code",
      "execution_count": null,
      "id": "FoXtT2B-FfpZ",
      "metadata": {
        "id": "FoXtT2B-FfpZ"
      },
      "outputs": [],
      "source": [
        "#export\n",
        "# Conditional probability of P(A | B), where both A and B are discrete variables.\n",
        "class DiscreteConditional:\n",
        "  def __init__(self, A_names, B_names, cpt):\n",
        "    '''\n",
        "    Constructor\n",
        "        Parameters:\n",
        "            A_names (list[str]): names of possible values of A\n",
        "            B_names (list[str]): names of possible values of B\n",
        "            cpt (list[list[float]]): conditional probability table, represented by a 2D list\n",
        "    '''\n",
        "    self._B_names = B_names.copy()\n",
        "    self._A_names = A_names.copy()\n",
        "    self._cpt = np.array(cpt, dtype=float)\n",
        "    self._cpt /= np.sum(self._cpt, axis=1)[:, np.newaxis]\n",
        "\n",
        "  def get_A_index(self, A_name) -> int:\n",
        "    return self._A_names.index(A_name)\n",
        "\n",
        "  # TODO 5:\n",
        "  # sample value of A given value of B\n",
        "  def sample(self, B_index: int) -> int:\n",
        "    '''\n",
        "    Returns a sample of A using the conditional probability distribution\n",
        "    given the value of B\n",
        "\n",
        "        Parameters:\n",
        "            B_index(int): Given value of B (represented by an index)\n",
        "\n",
        "        Returns:\n",
        "            sampled_index (int): an int indicating the sampled item name,\n",
        "                you may use the helper function to get index of A\n",
        "    '''\n",
        "    sampled_index = None\n",
        "    ###############################################################################\n",
        "    #                             START OF YOUR CODE                              #\n",
        "    ###############################################################################\n",
        "\n",
        "\n",
        "\n",
        "    ###############################################################################\n",
        "    #                              END OF YOUR CODE                               #\n",
        "    ###############################################################################\n",
        "    return sampled_index\n",
        "\n",
        "  # TODO 6:\n",
        "  # likelihoods of B given the value of A\n",
        "  def likelihoods(self, A_index: int) -> list:\n",
        "    '''\n",
        "    Returns the likelihoods of all categories given the value of A\n",
        "\n",
        "        Parameters:\n",
        "            A_index (int): value of A (represented as an index)\n",
        "\n",
        "        Returns:\n",
        "            likelihoods (list[float] or np.ndarray): a list of likelihoods of each category\n",
        "    '''\n",
        "    likelihoods = None\n",
        "    ###############################################################################\n",
        "    #                             START OF YOUR CODE                              #\n",
        "    ###############################################################################\n",
        "\n",
        "\n",
        "\n",
        "    ###############################################################################\n",
        "    #                              END OF YOUR CODE                               #\n",
        "    ###############################################################################\n",
        "    return likelihoods"
      ]
    },
    {
      "cell_type": "code",
      "execution_count": null,
      "id": "moEor965a_fU",
      "metadata": {
        "id": "moEor965a_fU"
      },
      "outputs": [],
      "source": [
        "# Sanity check to test your Discrete Conditional implementation\n",
        "def local_test_discrete_conditional():\n",
        "    B_categories = ['B0', 'B1']\n",
        "    A_categories = ['A0', 'A1', 'A2']\n",
        "    cpt_matrix = np.array([[0.2, 0.5, 0.3],\n",
        "                           [0.6, 0.2, 0.2]])\n",
        "\n",
        "    conditional_distribution = DiscreteConditional(A_categories,\n",
        "                                                   B_categories,\n",
        "                                                   cpt=cpt_matrix)\n",
        "\n",
        "    assert np.allclose(np.sum(conditional_distribution._cpt, axis=1), 1.0), \"Conditional probabilities do not sum to 1\"\n",
        "\n",
        "    B_index_to_sample = 0\n",
        "    sampled_A_index = conditional_distribution.sample(B_index_to_sample)\n",
        "    assert sampled_A_index in range(len(A_categories)), f\"Sampled A index {sampled_A_index} is out of range\"\n",
        "\n",
        "    A_index_to_check = 1\n",
        "    likelihoods = conditional_distribution.likelihoods(A_index_to_check)\n",
        "    assert np.isclose(np.sum(likelihoods / np.sum(likelihoods)), 1.0), \"Likelihoods do not sum to 1 for the specified A index\"\n",
        "\n",
        "    print(\"Sanity check passed successfully.\")\n",
        "\n",
        "local_test_discrete_conditional()"
      ]
    },
    {
      "cell_type": "markdown",
      "id": "hMk_F4ICFg2b",
      "metadata": {
        "id": "hMk_F4ICFg2b"
      },
      "source": [
        "**TODO 7 & TODO 8:**\n",
        "\n",
        "Complete GaussianConditional"
      ]
    },
    {
      "cell_type": "code",
      "execution_count": null,
      "id": "fBCgj9uZsBPG",
      "metadata": {
        "id": "fBCgj9uZsBPG"
      },
      "outputs": [],
      "source": [
        "#export\n",
        "# Conditional probability of P(A | B), where B is a discrete\n",
        "# variable, and A is a continuous variable under Gaussian distribution.\n",
        "class GaussianConditional:\n",
        "    def __init__(self, B_names, means, sigmas):\n",
        "      '''\n",
        "      Constructor\n",
        "          Parameters:\n",
        "              B_names (list[str]): list of prior category names\n",
        "              means (list[float]): list of mean measurement given each category\n",
        "              sigmas (list[float]): list of measurement standard deviation given each category\n",
        "      '''\n",
        "      self._B_names = B_names.copy()\n",
        "      self._means = means\n",
        "      self._sigmas = sigmas\n",
        "\n",
        "    @staticmethod\n",
        "    def Gaussian(x, mu=0.0, sigma=1.0):\n",
        "      return np.exp(-0.5 * (x - mu) ** 2 / sigma ** 2) / np.sqrt(2 * np.pi * sigma ** 2)\n",
        "\n",
        "    # TODO 7:\n",
        "    # sample A given B\n",
        "    def sample(self, B_index):\n",
        "        '''\n",
        "        Returns a sample of weight using the conditional probability given\n",
        "        the prior name index.\n",
        "\n",
        "            Parameters:\n",
        "                B_index (int): given value of B (represented by an index)\n",
        "\n",
        "            Returns:\n",
        "                weight (float): a float indicating the sampled weight\n",
        "        '''\n",
        "        weight = None\n",
        "        ###############################################################################\n",
        "        #                             START OF YOUR CODE                              #\n",
        "        ###############################################################################\n",
        "\n",
        "\n",
        "\n",
        "        ###############################################################################\n",
        "        #                              END OF YOUR CODE                               #\n",
        "        ###############################################################################\n",
        "        return weight\n",
        "\n",
        "    # TODO 8:\n",
        "    # likelihoods of A given B\n",
        "    def likelihoods(self, B_value: float) -> list:\n",
        "      '''\n",
        "      Returns the likelihoods of A given B\n",
        "\n",
        "          Parameters:\n",
        "              B_value (float): a float indicating the value of B\n",
        "\n",
        "          Returns:\n",
        "              likelihoods (list[float] or np.ndarray): a list of likelihoods of A\n",
        "      '''\n",
        "      likelihoods = None\n",
        "      ###############################################################################\n",
        "      #                             START OF YOUR CODE                              #\n",
        "      ###############################################################################\n",
        "\n",
        "\n",
        "\n",
        "      ###############################################################################\n",
        "      #                              END OF YOUR CODE                               #\n",
        "      ###############################################################################\n",
        "      return likelihoods"
      ]
    },
    {
      "cell_type": "markdown",
      "id": "b9f500d1",
      "metadata": {
        "id": "b9f500d1"
      },
      "source": [
        "**TODO 9 - TODO 11**:\n",
        "\n",
        "Declare conditional objects for sensor data"
      ]
    },
    {
      "cell_type": "code",
      "execution_count": null,
      "id": "RD2pDuJ98QY_",
      "metadata": {
        "id": "RD2pDuJ98QY_"
      },
      "outputs": [],
      "source": [
        "#export\n",
        "# TODO 9:\n",
        "# 1. Conductivity - binary sensor\n",
        "def get_pCT():\n",
        "    '''\n",
        "    Returns P(Conductivity | Trash Category)\n",
        "\n",
        "        Parameters:\n",
        "            None\n",
        "\n",
        "        Returns:\n",
        "            pCT (DiscreteConditional): a DiscreteConditional that\n",
        "                indicates the conditinal probability of conductivity given\n",
        "                the trash category\n",
        "    '''\n",
        "    pCT = None\n",
        "    prob_distribution = []\n",
        "    ###############################################################################\n",
        "    #                             START OF YOUR CODE                              #\n",
        "    ###############################################################################\n",
        "\n",
        "\n",
        "\n",
        "    ###############################################################################\n",
        "    #                              END OF YOUR CODE                               #\n",
        "    ###############################################################################\n",
        "    return pCT\n",
        "\n",
        "\n",
        "# TODO 10:\n",
        "# 2. Detection - multi-valued sensor\n",
        "def get_pDT():\n",
        "    '''\n",
        "    Returns P(Detection | Trash Category)\n",
        "\n",
        "        Parameters:\n",
        "            None\n",
        "\n",
        "        Returns:\n",
        "            pDT (DiscreteConditional): a DiscreteConditional that\n",
        "                indicates the conditinal probability of camera detection\n",
        "                given the trash category\n",
        "    '''\n",
        "    pDT = None\n",
        "    prob_distribution = []\n",
        "    ###############################################################################\n",
        "    #                             START OF YOUR CODE                              #\n",
        "    ###############################################################################\n",
        "\n",
        "\n",
        "\n",
        "    ###############################################################################\n",
        "    #                              END OF YOUR CODE                               #\n",
        "    ###############################################################################\n",
        "    return pDT\n",
        "\n",
        "# TODO 11:\n",
        "# 3. Weight - continuous-valued sensor\n",
        "def get_pWT():\n",
        "    '''\n",
        "    Returns P(Weight | Trash Category)\n",
        "\n",
        "        Parameters:\n",
        "            None\n",
        "\n",
        "        Returns:\n",
        "            pWT (GaussianConditional): a GaussianConditional object which represents\n",
        "            prior name, mean, and sigma of each category for Gaussian distribution\n",
        "    '''\n",
        "    pWT = None\n",
        "    means = []\n",
        "    sigmas = []\n",
        "    ###############################################################################\n",
        "    #                             START OF YOUR CODE                              #\n",
        "    ###############################################################################\n",
        "\n",
        "\n",
        "\n",
        "    ###############################################################################\n",
        "    #                              END OF YOUR CODE                               #\n",
        "    ###############################################################################\n",
        "    return pWT"
      ]
    },
    {
      "cell_type": "markdown",
      "id": "fHr1tS-_GaPZ",
      "metadata": {
        "id": "fHr1tS-_GaPZ"
      },
      "source": [
        "**TODO 12:**"
      ]
    },
    {
      "cell_type": "code",
      "execution_count": null,
      "id": "de6b759c",
      "metadata": {
        "id": "de6b759c"
      },
      "outputs": [],
      "source": [
        "#export\n",
        "# TODO 12:\n",
        "def sample_conductivity(category=None):\n",
        "    '''\n",
        "    Returns a sample of conductivity using the conditional probability\n",
        "    given the trash category.\n",
        "    If the category parameter is None, sample a category first.\n",
        "\n",
        "        Parameters:\n",
        "            category (int): an int indicating the trash category\n",
        "\n",
        "        Returns:\n",
        "            conductivity (int): an int indicating the conductivity, with\n",
        "                0 being nonconductive and 1 being conductive\n",
        "    '''\n",
        "    conductivity = None\n",
        "    ###############################################################################\n",
        "    #                             START OF YOUR CODE                              #\n",
        "    ###############################################################################\n",
        "    # sample from category\n",
        "\n",
        "\n",
        "\n",
        "    ###############################################################################\n",
        "    #                              END OF YOUR CODE                               #\n",
        "    ###############################################################################\n",
        "    return conductivity"
      ]
    },
    {
      "cell_type": "code",
      "execution_count": null,
      "id": "a8d7d639",
      "metadata": {
        "id": "a8d7d639"
      },
      "outputs": [],
      "source": [
        "print(\"Testing your sample conductivity: \", verify(unit_test.test_sample_conductivity, sample_conductivity))"
      ]
    },
    {
      "cell_type": "markdown",
      "id": "b8402d67",
      "metadata": {
        "id": "b8402d67"
      },
      "source": [
        "**TODO 13**:"
      ]
    },
    {
      "cell_type": "code",
      "execution_count": null,
      "id": "39ec41ea",
      "metadata": {
        "id": "39ec41ea"
      },
      "outputs": [],
      "source": [
        "#export\n",
        "# TODO 13:\n",
        "def sample_detection(category=None):\n",
        "    '''\n",
        "    Returns a sample of detection using the conditional probability given\n",
        "    the trash category.\n",
        "    If the category parameter is None, sample a category first.\n",
        "\n",
        "        Parameters:\n",
        "            category (int): an int indicating the trash category\n",
        "\n",
        "        Returns:\n",
        "            detection (int): an int indicating the sampled detection\n",
        "    '''\n",
        "    detection = None\n",
        "    ###############################################################################\n",
        "    #                             START OF YOUR CODE                              #\n",
        "    ###############################################################################\n",
        "\n",
        "\n",
        "\n",
        "    ###############################################################################\n",
        "    #                              END OF YOUR CODE                               #\n",
        "    ###############################################################################\n",
        "    return detection"
      ]
    },
    {
      "cell_type": "code",
      "execution_count": null,
      "id": "878bc375",
      "metadata": {
        "id": "878bc375"
      },
      "outputs": [],
      "source": [
        "print(\"Testing your sample detection: \", verify(unit_test.test_sample_detection, sample_detection))"
      ]
    },
    {
      "cell_type": "markdown",
      "id": "38d31413",
      "metadata": {
        "id": "38d31413"
      },
      "source": [
        "**TODO 14**:"
      ]
    },
    {
      "cell_type": "code",
      "execution_count": null,
      "id": "a029bce9",
      "metadata": {
        "id": "a029bce9"
      },
      "outputs": [],
      "source": [
        "#export\n",
        "# TODO 14:\n",
        "def sample_weight(category=None):\n",
        "    '''\n",
        "    Returns a sample of weight using the conditional probability given\n",
        "    the trash category.\n",
        "    If the category parameter is None, sample a category first.\n",
        "\n",
        "        Parameters:\n",
        "            category (int): an int indicating the trash category\n",
        "\n",
        "        Returns:\n",
        "            weight (float): a float indicating the sampled weight\n",
        "    '''\n",
        "    weight = None\n",
        "    ###############################################################################\n",
        "    #                             START OF YOUR CODE                              #\n",
        "    ###############################################################################\n",
        "\n",
        "\n",
        "\n",
        "    ###############################################################################\n",
        "    #                              END OF YOUR CODE                               #\n",
        "    ###############################################################################\n",
        "    return weight\n"
      ]
    },
    {
      "cell_type": "code",
      "execution_count": null,
      "id": "f917a829",
      "metadata": {
        "id": "f917a829"
      },
      "outputs": [],
      "source": [
        "print(\"Testing your sample weight: \", verify(unit_test.test_sample_weight, sample_weight))"
      ]
    },
    {
      "cell_type": "markdown",
      "id": "b8d40c7f",
      "metadata": {
        "id": "b8d40c7f"
      },
      "source": [
        "## Perception ([Book Section 2.4](http://www.roboticsbook.org/S24_sorter_perception.html))\n",
        "- Functions to complete: **TODO 15-19**\n",
        "- Objective: Calculating likelihoods using different methods given the observations from the world, please use the data provided in the textbook"
      ]
    },
    {
      "cell_type": "markdown",
      "id": "dfea4b6e",
      "metadata": {
        "id": "dfea4b6e"
      },
      "source": [
        "**TODO 15**:"
      ]
    },
    {
      "cell_type": "code",
      "execution_count": null,
      "id": "dd45963e",
      "metadata": {
        "id": "dd45963e"
      },
      "outputs": [],
      "source": [
        "#export\n",
        "# TODO 15:\n",
        "def likelihood_no_sensors():\n",
        "    '''\n",
        "    Returns the likelihoods of all trash categories using only priors,\n",
        "    aka no sensors.\n",
        "\n",
        "        Parameters:\n",
        "            None\n",
        "\n",
        "        Returns:\n",
        "            likelihoods (list[float]): a list of likelihoods of each trash category\n",
        "    '''\n",
        "    likelihoods = None\n",
        "    ###############################################################################\n",
        "    #                             START OF YOUR CODE                              #\n",
        "    ###############################################################################\n",
        "\n",
        "\n",
        "\n",
        "    ###############################################################################\n",
        "    #                              END OF YOUR CODE                               #\n",
        "    ###############################################################################\n",
        "    return likelihoods"
      ]
    },
    {
      "cell_type": "code",
      "execution_count": null,
      "id": "f6ec8880",
      "metadata": {
        "id": "f6ec8880"
      },
      "outputs": [],
      "source": [
        "print(\"Testing your likelihoods with no sensors: \")\n",
        "print(verify(unit_test.test_likelihood_no_sensor, likelihood_no_sensors))"
      ]
    },
    {
      "cell_type": "markdown",
      "id": "8ab90b31",
      "metadata": {
        "id": "8ab90b31"
      },
      "source": [
        "**TODO 16**:"
      ]
    },
    {
      "cell_type": "code",
      "execution_count": null,
      "id": "b1a3702f",
      "metadata": {
        "id": "b1a3702f"
      },
      "outputs": [],
      "source": [
        "#export\n",
        "# TODO 16:\n",
        "def likelihood_given_weight(weight):\n",
        "    '''\n",
        "    Returns the likelihoods of all trash categories using only the weight\n",
        "    sensor (no priors)\n",
        "\n",
        "        Parameters:\n",
        "            weight (float): a float indicating the weight of trash\n",
        "\n",
        "        Returns:\n",
        "            likelihoods (list[float] or np.ndarray): a list of likelihoods of each trash category\n",
        "    '''\n",
        "    likelihoods = None\n",
        "    ###############################################################################\n",
        "    #                             START OF YOUR CODE                              #\n",
        "    ###############################################################################\n",
        "\n",
        "\n",
        "\n",
        "    ###############################################################################\n",
        "    #                              END OF YOUR CODE                               #\n",
        "    ###############################################################################\n",
        "    return likelihoods"
      ]
    },
    {
      "cell_type": "code",
      "execution_count": null,
      "id": "137a39ca",
      "metadata": {
        "id": "137a39ca"
      },
      "outputs": [],
      "source": [
        "print(\"Testing your likelihoods using only the weight sensor: \")\n",
        "print(verify(unit_test.test_likelihood_given_weight, likelihood_given_weight))"
      ]
    },
    {
      "cell_type": "markdown",
      "id": "8cf6d53c",
      "metadata": {
        "id": "8cf6d53c"
      },
      "source": [
        "**TODO 17**:"
      ]
    },
    {
      "cell_type": "code",
      "execution_count": null,
      "id": "29557404",
      "metadata": {
        "id": "29557404"
      },
      "outputs": [],
      "source": [
        "#export\n",
        "# TODO 17:\n",
        "def likelihood_given_detection(detection):\n",
        "    '''\n",
        "    Returns the likelihoods of all trash categories using only the detection\n",
        "    sensor (no priors)\n",
        "\n",
        "        Parameters:\n",
        "            detection (int): an int indicating the sampled detection\n",
        "\n",
        "        Returns:\n",
        "            likelihoods (list[float] or np.ndarray): a list of likelihoods of each trash category\n",
        "    '''\n",
        "    likelihoods = None\n",
        "    ###############################################################################\n",
        "    #                             START OF YOUR CODE                              #\n",
        "    ###############################################################################\n",
        "\n",
        "\n",
        "\n",
        "    ###############################################################################\n",
        "    #                              END OF YOUR CODE                               #\n",
        "    ###############################################################################\n",
        "    return likelihoods\n"
      ]
    },
    {
      "cell_type": "code",
      "execution_count": null,
      "id": "a129df4f",
      "metadata": {
        "id": "a129df4f"
      },
      "outputs": [],
      "source": [
        "print(\"Testing your likelihoods using only the detection sensor: \")\n",
        "print(verify(unit_test.test_likelihood_given_detection, likelihood_given_detection))"
      ]
    },
    {
      "cell_type": "markdown",
      "id": "fadb4761",
      "metadata": {
        "id": "fadb4761"
      },
      "source": [
        "**TODO 18**:"
      ]
    },
    {
      "cell_type": "code",
      "execution_count": null,
      "id": "41289599",
      "metadata": {
        "id": "41289599"
      },
      "outputs": [],
      "source": [
        "#export\n",
        "# TODO 18:\n",
        "def bayes_given_weight(weight):\n",
        "    '''\n",
        "    Returns the posteriors of all trash categories by combining the weight\n",
        "    sensor and the priors\n",
        "\n",
        "        Parameters:\n",
        "            weight (float): a float indicating the weight of the trash\n",
        "\n",
        "        Returns:\n",
        "            posteriors (list[float] or np.ndarray): a list of posterior probabilities of each trash category\n",
        "    '''\n",
        "    posteriors = None\n",
        "    ###############################################################################\n",
        "    #                             START OF YOUR CODE                              #\n",
        "    ###############################################################################\n",
        "\n",
        "\n",
        "\n",
        "    ###############################################################################\n",
        "    #                              END OF YOUR CODE                               #\n",
        "    ###############################################################################\n",
        "    return posteriors"
      ]
    },
    {
      "cell_type": "code",
      "execution_count": null,
      "id": "a8cf017a",
      "metadata": {
        "id": "a8cf017a"
      },
      "outputs": [],
      "source": [
        "print(\"Testing your posteriors with the weight sensor and priors: \")\n",
        "print(verify(unit_test.test_bayes_given_weight, bayes_given_weight))"
      ]
    },
    {
      "cell_type": "markdown",
      "id": "0defff62",
      "metadata": {
        "id": "0defff62"
      },
      "source": [
        "**TODO 19:**"
      ]
    },
    {
      "cell_type": "code",
      "execution_count": null,
      "id": "8e1ac3c1",
      "metadata": {
        "id": "8e1ac3c1"
      },
      "outputs": [],
      "source": [
        "#export\n",
        "# TODO 19:\n",
        "# Bayes with three sensors\n",
        "def bayes_given_three_sensors(conductivity, detection, weight):\n",
        "    '''\n",
        "    Returns the posteriors of all trash categories by combining all three\n",
        "    sensors and the priors\n",
        "\n",
        "        Parameters:\n",
        "            conductivity (int): an int indicating the conductivity, with\n",
        "                0 being nonconductive and 1 being conductive\n",
        "\n",
        "            detection (int): an int indicating the sampled detection\n",
        "\n",
        "            weight (float): a float indicating the weight of the trash\n",
        "\n",
        "        Returns:\n",
        "            posteriors (list[float] or np.ndarray): a list of posterior probabilities of each trash category\n",
        "    '''\n",
        "    posteriors = None\n",
        "    ###############################################################################\n",
        "    #                             START OF YOUR CODE                              #\n",
        "    ###############################################################################\n",
        "\n",
        "\n",
        "\n",
        "    ###############################################################################\n",
        "    #                              END OF YOUR CODE                               #\n",
        "    ###############################################################################\n",
        "    return posteriors"
      ]
    },
    {
      "cell_type": "code",
      "execution_count": null,
      "id": "3d264f2f",
      "metadata": {
        "id": "3d264f2f"
      },
      "outputs": [],
      "source": [
        "print(\"Testing your posteriors giving all three sensors: \")\n",
        "print(verify(unit_test.test_bayes_given_three_sensors, bayes_given_three_sensors))"
      ]
    },
    {
      "cell_type": "markdown",
      "id": "6259456e",
      "metadata": {
        "id": "6259456e"
      },
      "source": [
        "## Decision Theory ([Book Section 2.5](http://www.roboticsbook.org/S25_sorter_decision_theory.html))\n",
        "- Functions to complete: **TODO 20**\n",
        "- Objective: Incorporating the cost table with the perception to reach a final sorting decision"
      ]
    },
    {
      "cell_type": "code",
      "execution_count": null,
      "id": "8Wwr_Idw4UrZ",
      "metadata": {
        "id": "8Wwr_Idw4UrZ"
      },
      "outputs": [],
      "source": [
        "# Cost table for each state\n",
        "COST_TABLE = np.array([[2,  2,  4,  6,  0],\n",
        "                       [1,  1,  0,  0,  2],\n",
        "                       [0,  0,  5, 10,  3],\n",
        "                       [1,  1,  1,  1,  1]])"
      ]
    },
    {
      "cell_type": "markdown",
      "id": "aa107f64",
      "metadata": {
        "id": "aa107f64"
      },
      "source": [
        "**TODO 20**:"
      ]
    },
    {
      "cell_type": "code",
      "execution_count": null,
      "id": "72f04e61",
      "metadata": {
        "id": "72f04e61"
      },
      "outputs": [],
      "source": [
        "#export\n",
        "# TODO 20:\n",
        "### DECISION ###\n",
        "def make_decision(posteriors):\n",
        "    '''\n",
        "    Returns the decision made by the robot given the likelihoods/posteriors you calculated\n",
        "\n",
        "        Parameters:\n",
        "            posteriors (list[float]): a list of posteriors of each trash category\n",
        "\n",
        "        Returns:\n",
        "            action (int): an int indicating the action taken by the robot\n",
        "    '''\n",
        "    action = None\n",
        "    ###############################################################################\n",
        "    #                             START OF YOUR CODE                              #\n",
        "    ###############################################################################\n",
        "\n",
        "\n",
        "\n",
        "    ###############################################################################\n",
        "    #                              END OF YOUR CODE                               #\n",
        "    ###############################################################################\n",
        "    return action"
      ]
    },
    {
      "cell_type": "code",
      "execution_count": null,
      "id": "6b961b8e",
      "metadata": {
        "id": "6b961b8e"
      },
      "outputs": [],
      "source": [
        "print(\"Testing the decision made by your robot: \")\n",
        "print(verify(unit_test.test_make_decision, make_decision))"
      ]
    },
    {
      "cell_type": "code",
      "execution_count": null,
      "id": "120f2d67",
      "metadata": {
        "id": "120f2d67"
      },
      "outputs": [],
      "source": [
        "unit_test.get_cost_table(COST_TABLE)\n",
        "print(\"Testing your cost without sensors: \")\n",
        "print(verify(unit_test.test_score_likelihood_no_sensor, likelihood_no_sensors, make_decision))\n",
        "print(\"Testing your cost using the weight sensor:\")\n",
        "print(verify(unit_test.test_score_likelihood_given_weight, likelihood_given_weight, make_decision))\n",
        "print(\"Testing your cost using the detection sensor:\")\n",
        "print(verify(unit_test.test_score_likelihood_given_detection, likelihood_given_detection, make_decision))\n",
        "print(\"Testing your cost using with the weight sensor and priors:\")\n",
        "print(verify(unit_test.test_score_bayes_given_weight, bayes_given_weight, make_decision))\n",
        "print(\"Testing your cost using all three sensors: \")\n",
        "print(verify(unit_test.test_score_bayes_given_three_sensors, bayes_given_three_sensors, make_decision))"
      ]
    },
    {
      "cell_type": "markdown",
      "id": "ef7905f9",
      "metadata": {
        "id": "ef7905f9"
      },
      "source": [
        "## Learning ([Book Section 2.6](http://www.roboticsbook.org/S26_sorter_learning.html))\n",
        "A Gaussian distribution, also known as a normal distribution, is an inappropriate distribution to represent\n",
        "the weight of an item. This is because it has an infinite range and therefore sampling from it can produce\n",
        "a negative number, while an item cannot have a negative weight. A more commonly used distribution\n",
        "used to represent weight is the [log-normal distribution](https://en.wikipedia.org/wiki/Log-normal_distribution) which can only contain positive real values. The book explains how to fit a gaussian distribution to a set of data.\n",
        "- Functions to complete: **TODO 21**\n",
        "- Objective: Fit a Log-Normal Distribution to a set of data\n",
        "- Hint: There is an estimation of parameters section on the wikipedia article"
      ]
    },
    {
      "cell_type": "markdown",
      "id": "7f8edafb",
      "metadata": {
        "id": "7f8edafb"
      },
      "source": [
        "**TODO 21**:"
      ]
    },
    {
      "cell_type": "code",
      "execution_count": null,
      "id": "3540f141",
      "metadata": {
        "id": "3540f141"
      },
      "outputs": [],
      "source": [
        "#export\n",
        "# TODO 21\n",
        "def fit_log_normal(data):\n",
        "    '''\n",
        "    Returns mu, sigma for a log-normal distribution\n",
        "\n",
        "        Parameters:\n",
        "            data (list[float]): A list of positive floats that represent the weight of an item\n",
        "\n",
        "        Returns:\n",
        "            mu (float), sigma (float): The mu and sigma for a log-normal distribution\n",
        "    '''\n",
        "    mu = None\n",
        "    sigma = None\n",
        "    ###############################################################################\n",
        "    #                             START OF YOUR CODE                              #\n",
        "    ###############################################################################\n",
        "\n",
        "\n",
        "\n",
        "    ###############################################################################\n",
        "    #                              END OF YOUR CODE                               #\n",
        "    ###############################################################################\n",
        "    return mu, sigma"
      ]
    },
    {
      "cell_type": "code",
      "execution_count": null,
      "id": "c5b83f46",
      "metadata": {
        "id": "c5b83f46"
      },
      "outputs": [],
      "source": [
        "print(\"Testing your log-normal distribution: \", verify(unit_test.test_fit_log_normal, fit_log_normal))"
      ]
    }
  ],
  "metadata": {
    "colab": {
      "provenance": []
    },
    "kernelspec": {
      "display_name": "Python 3.10 (emade)",
      "language": "python",
      "name": "emade"
    },
    "language_info": {
      "codemirror_mode": {
        "name": "ipython",
        "version": 3
      },
      "file_extension": ".py",
      "mimetype": "text/x-python",
      "name": "python",
      "nbconvert_exporter": "python",
      "pygments_lexer": "ipython3",
      "version": "3.10.9"
    },
    "vscode": {
      "interpreter": {
        "hash": "31f2aee4e71d21fbe5cf8b01ff0e069b9275f58929596ceb00d14d90e3e16cd6"
      }
    }
  },
  "nbformat": 4,
  "nbformat_minor": 5
}
